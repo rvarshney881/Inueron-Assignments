{
 "cells": [
  {
   "cell_type": "markdown",
   "metadata": {},
   "source": [
    "# Write a Python Program(with class concepts) to find the area of the triangle using the below formula.\n",
    "\n",
    "area = (s*(s-a)*(s-b)*(s-c)) ** 0.5\n",
    "\n",
    "Function to take the length of the sides of triangle from user should be defined in the parent\n",
    "class and function to calculate the area should be defined in subclass."
   ]
  },
  {
   "cell_type": "code",
   "execution_count": 44,
   "metadata": {},
   "outputs": [
    {
     "name": "stdout",
     "output_type": "stream",
     "text": [
      "Please enter the first side of a triangle: 4\n",
      "Please enter the second side of a triangle: 5\n",
      "Please enter the third side of a triangle: 6\n",
      "9.921567416492215\n"
     ]
    }
   ],
   "source": [
    "import math\n",
    "a = int(input('Please enter the first side of a triangle: '))\n",
    "b = int(input('Please enter the second side of a triangle: '))\n",
    "c = int(input('Please enter the third side of a triangle: '))\n",
    "class triangle():\n",
    "   def __init__(self,a,b,c):\n",
    "       self.a = a\n",
    "       self.b = b\n",
    "       self.c = c\n",
    "   def area(self):\n",
    "       s=(a + b + c)/2\n",
    "       area=math.sqrt(s*(s-a)*(s-b)*(s-c))\n",
    "       return area\n",
    "t = triangle(a, b, c)\n",
    "print(t.area())"
   ]
  },
  {
   "cell_type": "markdown",
   "metadata": {},
   "source": [
    "# Write a function filter_long_words() that takes a list of words and an integer n and returns the list of words that are longer than n."
   ]
  },
  {
   "cell_type": "code",
   "execution_count": 18,
   "metadata": {},
   "outputs": [],
   "source": [
    "def filter_long_words(n, words):\n",
    "    list_of_words=[]\n",
    "    a= words.split(\" \")\n",
    "    for x in a:\n",
    "        if len(x)>n:\n",
    "            list_of_words.append(x)\n",
    "    return list_of_words"
   ]
  },
  {
   "cell_type": "code",
   "execution_count": 20,
   "metadata": {},
   "outputs": [
    {
     "data": {
      "text/plain": [
       "['There!', 'Rahul', 'intelligent']"
      ]
     },
     "execution_count": 20,
     "metadata": {},
     "output_type": "execute_result"
    }
   ],
   "source": [
    "filter_long_words(4,\" Hey There! Rahul is very intelligent Boy\")"
   ]
  },
  {
   "cell_type": "markdown",
   "metadata": {},
   "source": [
    "# Write a Python program using function concept that maps list of words into a list of integers representing the lengths of the corresponding words.\n",
    "\n",
    "Hint: If a list [ ab,cde,erty] is passed on to the python function output should come as [2,3,4]\n",
    "Here 2,3 and 4 are the lengths of the words in the list."
   ]
  },
  {
   "cell_type": "code",
   "execution_count": 28,
   "metadata": {},
   "outputs": [],
   "source": [
    "def map_my_list(my_list):\n",
    "    list1=[]\n",
    "    a=my_list.split(\" \")\n",
    "    for x in a:\n",
    "        list1.append(str(len(x)))\n",
    "    return list1"
   ]
  },
  {
   "cell_type": "code",
   "execution_count": 29,
   "metadata": {},
   "outputs": [
    {
     "data": {
      "text/plain": [
       "['2', '4', '2', '5']"
      ]
     },
     "execution_count": 29,
     "metadata": {},
     "output_type": "execute_result"
    }
   ],
   "source": [
    "map_my_list(\"my name is rahul\")"
   ]
  },
  {
   "cell_type": "markdown",
   "metadata": {},
   "source": [
    "# 2.2 Write a Python function which takes a character (i.e. a string of length 1) and returns True if it is a vowel, False otherwise."
   ]
  },
  {
   "cell_type": "code",
   "execution_count": 30,
   "metadata": {},
   "outputs": [],
   "source": [
    "def vowel_checker(str):\n",
    "    list=[\"a\",\"e\",\"i\",\"o\",\"u\"]\n",
    "    if str in list:\n",
    "        print(\"TRUE\")\n",
    "    else:\n",
    "        print(\"FALSE\")"
   ]
  },
  {
   "cell_type": "code",
   "execution_count": 34,
   "metadata": {},
   "outputs": [
    {
     "name": "stdout",
     "output_type": "stream",
     "text": [
      "FALSE\n"
     ]
    }
   ],
   "source": [
    "vowel_checker(\"p\")"
   ]
  }
 ],
 "metadata": {
  "kernelspec": {
   "display_name": "Python 3",
   "language": "python",
   "name": "python3"
  },
  "language_info": {
   "codemirror_mode": {
    "name": "ipython",
    "version": 3
   },
   "file_extension": ".py",
   "mimetype": "text/x-python",
   "name": "python",
   "nbconvert_exporter": "python",
   "pygments_lexer": "ipython3",
   "version": "3.7.4"
  }
 },
 "nbformat": 4,
 "nbformat_minor": 2
}
